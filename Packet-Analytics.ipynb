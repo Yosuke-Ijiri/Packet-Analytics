{
 "cells": [
  {
   "cell_type": "markdown",
   "metadata": {},
   "source": [
    "# Learning Packet Analysis with Data Science"
   ]
  },
  {
   "cell_type": "code",
   "execution_count": null,
   "metadata": {},
   "outputs": [],
   "source": [
    "from scapy.all import * # Packet manipulation\n",
    "import pandas as pd # Pandas - Create and Manipulate DataFrames\n",
    "import numpy as np # Math Stuff (don't worry only used for one line :] )\n",
    "import binascii # Binary to Ascii \n",
    "import seaborn as sns\n",
    "sns.set(color_codes=True)\n",
    "%matplotlib inline\n",
    "\n",
    "'''Use common fields in IP Packet to perform exploratory analysis on PCAP'''"
   ]
  },
  {
   "cell_type": "markdown",
   "metadata": {},
   "source": [
    "### The line below will attempt to sniff 10 packets\n",
    "#### You can kill the sniffing operation with the stop button in the notebook"
   ]
  },
  {
   "cell_type": "code",
   "execution_count": null,
   "metadata": {},
   "outputs": [],
   "source": [
    "num_of_packets_to_sniff = 100\n",
    "pcap = sniff(count=num_of_packets_to_sniff)\n",
    "\n",
    "# rdpcap returns packet list\n",
    "## packetlist object can be enumerated \n",
    "print(type(pcap))\n",
    "print(len(pcap))\n",
    "print(pcap)\n",
    "pcap[0]"
   ]
  },
  {
   "cell_type": "markdown",
   "metadata": {},
   "source": [
    "# Append suspicious pcap to current stream"
   ]
  },
  {
   "cell_type": "code",
   "execution_count": null,
   "metadata": {},
   "outputs": [],
   "source": [
    "# rdpcap used to Read Pcap\n",
    "pcap = pcap + rdpcap(\"suspicious.pcap\")"
   ]
  },
  {
   "cell_type": "code",
   "execution_count": null,
   "metadata": {},
   "outputs": [],
   "source": [
    "print(len(pcap))\n",
    "print(pcap)"
   ]
  },
  {
   "cell_type": "markdown",
   "metadata": {},
   "source": [
    "# TCP Segment\n",
    "#### Frames/Packets/Segments each encapsulated layer consists of fields"
   ]
  },
  {
   "cell_type": "code",
   "execution_count": null,
   "metadata": {},
   "outputs": [],
   "source": [
    "\"\"\"\n",
    "0                   1                   2                   3\n",
    "0 1 2 3 4 5 6 7 8 9 0 1 2 3 4 5 6 7 8 9 0 1 2 3 4 5 6 7 8 9 0 1\n",
    "+-+-+-+-+-+-+-+-+-+-+-+-+-+-+-+-+-+-+-+-+-+-+-+-+-+-+-+-+-+-+-+-+\n",
    "|          Source Port          |       Destination Port        |\n",
    "+-+-+-+-+-+-+-+-+-+-+-+-+-+-+-+-+-+-+-+-+-+-+-+-+-+-+-+-+-+-+-+-+\n",
    "|                        Sequence Number                        |\n",
    "+-+-+-+-+-+-+-+-+-+-+-+-+-+-+-+-+-+-+-+-+-+-+-+-+-+-+-+-+-+-+-+-+\n",
    "|                    Acknowledgment Number                      |\n",
    "+-+-+-+-+-+-+-+-+-+-+-+-+-+-+-+-+-+-+-+-+-+-+-+-+-+-+-+-+-+-+-+-+\n",
    "|  Data |           |U|A|P|R|S|F|                               |\n",
    "| Offset| Reserved  |R|C|S|S|Y|I|            Window             |\n",
    "|       |           |G|K|H|T|N|N|                               |\n",
    "+-+-+-+-+-+-+-+-+-+-+-+-+-+-+-+-+-+-+-+-+-+-+-+-+-+-+-+-+-+-+-+-+\n",
    "|           Checksum            |         Urgent Pointer        |\n",
    "+-+-+-+-+-+-+-+-+-+-+-+-+-+-+-+-+-+-+-+-+-+-+-+-+-+-+-+-+-+-+-+-+\n",
    "|                    Options                    |    Padding    |\n",
    "+-+-+-+-+-+-+-+-+-+-+-+-+-+-+-+-+-+-+-+-+-+-+-+-+-+-+-+-+-+-+-+-+\n",
    "|                             data                              |\n",
    "+-+-+-+-+-+-+-+-+-+-+-+-+-+-+-+-+-+-+-+-+-+-+-+-+-+-+-+-+-+-+-+-+\n",
    "02 04 05 a0 01 03 03 05 01 01 08 0a 1d 74 65 c5 00 00 00 00 04 02 00 00\n",
    "\"\"\"\n",
    "\n",
    "# Frames/Packets/Segments all consists of fields\n",
    "# TODO: Identify how to handle arrays in dataframe\n",
    "\n",
    "print()"
   ]
  },
  {
   "cell_type": "markdown",
   "metadata": {},
   "source": [
    "# Exploring an item in packet list"
   ]
  },
  {
   "cell_type": "code",
   "execution_count": null,
   "metadata": {},
   "outputs": [],
   "source": [
    "# ETHERNET -> Internet Protocol -> Layer 4 Segments\n",
    "# We're only interested in Layers 3 (IP) and 4 (TCP AND UDP) \n",
    "## We'll parse those two layers and the layer 4 payload\n",
    "## When capturing we capture layer 2 frames and beyond\n",
    "\n",
    "# Retrieving a single item from packet list\n",
    "ethernet_frame = pcap[101]\n",
    "ip_packet = ethernet_frame.payload\n",
    "segment = ip_packet.payload\n",
    "data = segment.payload # Retrieve payload that comes after layer 4\n",
    "\n",
    "# Observe that we just popped off previous layer header\n",
    "print(ethernet_frame.summary())\n",
    "print(ip_packet.summary())\n",
    "print(segment.summary())\n",
    "print(data.summary()) # If blank, empty object\n",
    "\n",
    "# Complete depiction of paket\n",
    "## Achieving understanding that these are the fields will enable the ability \n",
    "## to ask the data more meaningful questions ie) type of layer 4 segment is defined in layer 3 packet\n",
    "ethernet_frame.show()"
   ]
  },
  {
   "cell_type": "markdown",
   "metadata": {},
   "source": [
    "### Understanding object types in scapy and Importing layers"
   ]
  },
  {
   "cell_type": "code",
   "execution_count": null,
   "metadata": {},
   "outputs": [],
   "source": [
    "# Understanding the object types in scapy\n",
    "print(type(ethernet_frame))\n",
    "print(type(ip_packet))\n",
    "print(type(segment))\n",
    "\n",
    "# Packets can be filtered on layers ie) ethernet_frame[scapy.layers.l2.Ether]\n",
    "ethernet_type = type(ethernet_frame)\n",
    "ip_type = type(ip_packet)\n",
    "tcp_type = type(segment)\n",
    "print(\"Ethernet\",pcap[ethernet_type])\n",
    "print(\"IP\", pcap[ip_type])\n",
    "print(\"TCP\", pcap[tcp_type])\n",
    "\n",
    "# Scapy provides this via import statements\n",
    "from scapy.layers.l2 import Ether\n",
    "from scapy.layers.inet import IP\n",
    "from scapy.layers.inet import TCP, UDP\n",
    "\n",
    "print(\"UDP\", pcap[UDP])"
   ]
  },
  {
   "cell_type": "markdown",
   "metadata": {},
   "source": [
    "# Convert PCAP to DataFrame"
   ]
  },
  {
   "cell_type": "code",
   "execution_count": null,
   "metadata": {},
   "outputs": [],
   "source": [
    "# Collect field names from IP/TCP/UDP (These will be columns in DF)\n",
    "ip_fields = [field.name for field in IP().fields_desc]\n",
    "tcp_fields = [field.name for field in TCP().fields_desc]\n",
    "udp_fields = [field.name for field in UDP().fields_desc]\n",
    "\n",
    "dataframe_fields = ip_fields + ['time'] + tcp_fields + ['payload','payload_raw','payload_hex']\n",
    "\n",
    "# Create blank DataFrame\n",
    "df = pd.DataFrame(columns=dataframe_fields)\n",
    "for packet in pcap[IP]:\n",
    "    # Field array for each row of DataFrame\n",
    "    field_values = []\n",
    "    # Add all IP fields to dataframe\n",
    "    for field in ip_fields:\n",
    "        if field == 'options':\n",
    "            # Retrieving number of options defined in IP Header\n",
    "            field_values.append(len(packet[IP].fields[field]))\n",
    "        else:\n",
    "            field_values.append(packet[IP].fields[field])\n",
    "    \n",
    "    field_values.append(packet.time)\n",
    "    \n",
    "    layer_type = type(packet[IP].payload)\n",
    "    for field in tcp_fields:\n",
    "        try:\n",
    "            if field == 'options':\n",
    "                field_values.append(len(packet[layer_type].fields[field]))\n",
    "            else:\n",
    "                field_values.append(packet[layer_type].fields[field])\n",
    "        except:\n",
    "            field_values.append(None)\n",
    "    \n",
    "    # Append payload\n",
    "    field_values.append(len(packet[layer_type].payload))\n",
    "    field_values.append(packet[layer_type].payload.original)\n",
    "    field_values.append(binascii.hexlify(packet[layer_type].payload.original))\n",
    "    # Add row to DF\n",
    "    df_append = pd.DataFrame([field_values], columns=dataframe_fields)\n",
    "    df = pd.concat([df, df_append], axis=0)\n",
    "\n",
    "# Reset Index\n",
    "df = df.reset_index()\n",
    "# Drop old index column\n",
    "df = df.drop(columns=\"index\")"
   ]
  },
  {
   "cell_type": "markdown",
   "metadata": {},
   "source": [
    "### DataFrame Basics"
   ]
  },
  {
   "cell_type": "code",
   "execution_count": null,
   "metadata": {},
   "outputs": [],
   "source": [
    "# Retrieve first row from DataFrame\n",
    "print(df.iloc[0])\n",
    "\n",
    "print(df.shape)\n",
    "\n",
    "# Return first 5 rows\n",
    "df.head()\n",
    "\n",
    "# Return last 5 rows\n",
    "df.tail()\n",
    "\n",
    "# Return the Source Address for all rows\n",
    "df['src']\n",
    "\n",
    "# Return Src Address, Dst Address, Src Port, Dst Port\n",
    "df[['src','dst','sport','dport']]"
   ]
  },
  {
   "cell_type": "markdown",
   "metadata": {},
   "source": [
    "# Statistics"
   ]
  },
  {
   "cell_type": "code",
   "execution_count": null,
   "metadata": {
    "scrolled": false
   },
   "outputs": [],
   "source": [
    "# Top Source Adddress\n",
    "print(\"# Top Source Address\")\n",
    "print(df['src'].describe(),'\\n\\n')\n",
    "\n",
    "# Top Destination Address\n",
    "print(\"# Top Destination Address\")\n",
    "print(df['dst'].describe(),\"\\n\\n\")\n",
    "\n",
    "frequent_address = df['src'].describe()['top']\n",
    "\n",
    "# Who is the top address speaking to\n",
    "print(\"# Who is Top Address Speaking to?\")\n",
    "print(df[df['src'] == frequent_address]['dst'].unique(),\"\\n\\n\")\n",
    "\n",
    "# Who is the top address speaking to (dst ports)\n",
    "print(\"# Who is the top address speaking to (Destination Ports)\")\n",
    "print(df[df['src'] == frequent_address]['dport'].unique(),\"\\n\\n\")\n",
    "\n",
    "# Who is the top address speaking to (src ports)\n",
    "print(\"# Who is the top address speaking to (Source Ports)\")\n",
    "print(df[df['src'] == frequent_address]['sport'].unique(),\"\\n\\n\")"
   ]
  },
  {
   "cell_type": "code",
   "execution_count": null,
   "metadata": {},
   "outputs": [],
   "source": [
    "# Unique Source Addresses\n",
    "print(\"Unique Source Addresses\")\n",
    "print(df['src'].unique())\n",
    "\n",
    "print()\n",
    "\n",
    "# Unique Destination Addresses\n",
    "print(\"Unique Destination Addresses\")\n",
    "print(df['dst'].unique())"
   ]
  },
  {
   "cell_type": "markdown",
   "metadata": {},
   "source": [
    "# Graphing"
   ]
  },
  {
   "cell_type": "code",
   "execution_count": null,
   "metadata": {
    "scrolled": false
   },
   "outputs": [],
   "source": [
    "# Group by Source Address and Payload Sum\n",
    "source_addresses = df.groupby(\"src\")['payload'].sum()\n",
    "source_addresses.plot(kind='barh',title=\"Addresses Sending Payloads\",figsize=(8,5))"
   ]
  },
  {
   "cell_type": "code",
   "execution_count": null,
   "metadata": {},
   "outputs": [],
   "source": [
    "# Group by Destination Address and Payload Sum\n",
    "destination_addresses = df.groupby(\"dst\")['payload'].sum()\n",
    "destination_addresses.plot(kind='barh', title=\"Destination Addresses (Bytes Received)\",figsize=(8,5))"
   ]
  },
  {
   "cell_type": "code",
   "execution_count": null,
   "metadata": {},
   "outputs": [],
   "source": [
    "# Group by Source Port and Payload Sum\n",
    "source_payloads = df.groupby(\"sport\")['payload'].sum()\n",
    "source_payloads.plot(kind='barh',title=\"Source Ports (Bytes Sent)\",figsize=(8,5))"
   ]
  },
  {
   "cell_type": "code",
   "execution_count": null,
   "metadata": {
    "scrolled": true
   },
   "outputs": [],
   "source": [
    "# Group by Destination Port and Payload Sum\n",
    "destination_payloads = df.groupby(\"dport\")['payload'].sum()\n",
    "destination_payloads.plot(kind='barh',title=\"Destination Ports (Bytes Received)\",figsize=(8,5))"
   ]
  },
  {
   "cell_type": "code",
   "execution_count": null,
   "metadata": {},
   "outputs": [],
   "source": [
    "#groupby(\"time\")['payload'].sum().plot(kind='barh',title=\"Destination Ports (Bytes Received)\",figsize=(8,5))\n",
    "\n",
    "frequent_address_df = df[df['src'] == frequent_address]\n",
    "x = frequent_address_df['payload'].tolist()\n",
    "sns.barplot(x=\"time\", y=\"payload\", data=frequent_address_df[['payload','time']],\n",
    "            label=\"Total\", color=\"b\").set_title(\"History of bytes sent by most frequent address\")\n"
   ]
  },
  {
   "cell_type": "markdown",
   "metadata": {},
   "source": [
    "# Payload Investigation"
   ]
  },
  {
   "cell_type": "code",
   "execution_count": null,
   "metadata": {},
   "outputs": [],
   "source": [
    "# Create dataframe with only converation from most frequent address\n",
    "frequent_address_df = df[df['src']==frequent_address]\n",
    "\n",
    "# Only display Src Address, Dst Address, and group by Payload \n",
    "frequent_address_groupby = frequent_address_df[['src','dst','payload']].groupby(\"dst\")['payload'].sum()\n",
    "\n",
    "# Plot the Frequent address is speaking to (By Payload)\n",
    "frequent_address_groupby.plot(kind='barh',title=\"Most Frequent Address is Speaking To (Bytes)\",figsize=(8,5))\n",
    "\n",
    "# Which address has excahnged the most amount of bytes with most frequent address\n",
    "suspicious_ip = frequent_address_groupby.sort_values(ascending=False).index[0]\n",
    "print(suspicious_ip, \"May be a suspicious address\")\n",
    "\n",
    "# Create dataframe with only conversation from most frequent address and suspicious address\n",
    "suspicious_df = frequent_address_df[frequent_address_df['dst']==suspicious_ip]"
   ]
  },
  {
   "cell_type": "code",
   "execution_count": null,
   "metadata": {},
   "outputs": [],
   "source": [
    "# Store each payload in an array\n",
    "raw_stream = []\n",
    "for p in suspicious_df['payload_raw']:\n",
    "    raw_stream.append(p)\n",
    "    \n",
    "print(raw_stream)"
   ]
  }
 ],
 "metadata": {
  "kernelspec": {
   "display_name": "Python 3",
   "language": "python",
   "name": "python3"
  },
  "language_info": {
   "codemirror_mode": {
    "name": "ipython",
    "version": 3
   },
   "file_extension": ".py",
   "mimetype": "text/x-python",
   "name": "python",
   "nbconvert_exporter": "python",
   "pygments_lexer": "ipython3",
   "version": "3.6.6"
  }
 },
 "nbformat": 4,
 "nbformat_minor": 2
}
